{
 "cells": [
  {
   "cell_type": "markdown",
   "metadata": {},
   "source": [
    "## read files"
   ]
  },
  {
   "cell_type": "code",
   "execution_count": 167,
   "metadata": {},
   "outputs": [],
   "source": [
    "import os\n",
    "import re\n",
    "import pandas as pd\n",
    "import pycountry"
   ]
  },
  {
   "cell_type": "code",
   "execution_count": 168,
   "metadata": {},
   "outputs": [
    {
     "name": "stdout",
     "output_type": "stream",
     "text": [
      "There are 8093 speeches in total\n"
     ]
    }
   ],
   "source": [
    "focus_year = \"1970-2018\"\n",
    "data_folder = \"../data/Converted sessions/\"\n",
    "filename_pattern = re.compile(r\"^(?P<country>[A-Z]{2,4})_[0-9]{2}_(?P<year>[0-9]{4}).txt$\", re.VERBOSE)\n",
    "\n",
    "docs=[]\n",
    "files = {}\n",
    "countries = {}\n",
    "years = {}\n",
    "countries_years = {}\n",
    "\n",
    "for root, directories, filenames in os.walk(data_folder):\n",
    "    for filename in filenames: \n",
    "        match = filename_pattern.match(filename)\n",
    "        if match:\n",
    "            path = os.path.join(root,filename)\n",
    "            with open (path,encoding='utf8',errors='ignore') as fin:\n",
    "                if re.match(filename_pattern, filename):\n",
    "                    doc=fin.read().strip('\\n\\t')\n",
    "                    docs.append(doc) \n",
    "                \n",
    "            (country, year) = (match.group('country'), match.group('year'))\n",
    "            try:\n",
    "                country_name = pycountry.countries.get(alpha_3=country).name\n",
    "            except:\n",
    "                country_name = country\n",
    "            files[path] = {'country' : country_name, 'year' : year}\n",
    "            countries[country_name] = countries.get(country_name,0) + 1\n",
    "            years[year] = years.get(year,0) + 1\n",
    "            if country_name in countries_years.keys():\n",
    "                countries_years[country_name][year] = countries_years[country_name].get(year,0) + 1\n",
    "            else:\n",
    "                countries_years[country_name] = {year : 1}\n",
    "\n",
    "print(\"There are %d speeches in total\" % (len(files.keys())))"
   ]
  },
  {
   "cell_type": "markdown",
   "metadata": {},
   "source": [
    "docs is **list** of txt content "
   ]
  },
  {
   "cell_type": "markdown",
   "metadata": {},
   "source": [
    "files are **dict** {path:{counrty,year}}"
   ]
  },
  {
   "cell_type": "code",
   "execution_count": null,
   "metadata": {},
   "outputs": [],
   "source": [
    "files"
   ]
  },
  {
   "cell_type": "code",
   "execution_count": null,
   "metadata": {
    "scrolled": false
   },
   "outputs": [],
   "source": [
    "files['../data/Converted sessions/Session 25 - 1970\\\\ALB_25_1970.txt']['country']\n",
    "files['../data/Converted sessions/Session 25 - 1970\\\\ALB_25_1970.txt']"
   ]
  },
  {
   "cell_type": "markdown",
   "metadata": {},
   "source": [
    "- countries/years is **dict** {counrty: number of speech}\n",
    "- countries_years is **dict** {country: {year: number of speech} }"
   ]
  },
  {
   "cell_type": "code",
   "execution_count": null,
   "metadata": {},
   "outputs": [],
   "source": [
    "countries['Albania']"
   ]
  },
  {
   "cell_type": "code",
   "execution_count": null,
   "metadata": {},
   "outputs": [],
   "source": [
    "years['1970']"
   ]
  },
  {
   "cell_type": "code",
   "execution_count": null,
   "metadata": {},
   "outputs": [],
   "source": [
    "n_speech = len(files.keys())"
   ]
  },
  {
   "cell_type": "markdown",
   "metadata": {},
   "source": [
    "## sentiment analysis based on unsupurvised learning"
   ]
  },
  {
   "cell_type": "markdown",
   "metadata": {},
   "source": [
    "break full speech into sentences"
   ]
  },
  {
   "cell_type": "code",
   "execution_count": 169,
   "metadata": {},
   "outputs": [],
   "source": [
    "from afinn import Afinn"
   ]
  },
  {
   "cell_type": "code",
   "execution_count": 170,
   "metadata": {},
   "outputs": [],
   "source": [
    "def sentence_split(str_centence):\n",
    "    list_ret = []\n",
    "    for s_str in str_centence.split('.'):\n",
    "        if '?' in s_str:\n",
    "            list_ret.extend(s_str.split('?'))\n",
    "        elif '!' in s_str:\n",
    "            list_ret.extend(s_str.split('!'))\n",
    "        else:\n",
    "            list_ret.append(s_str)\n",
    "    return list_ret"
   ]
  },
  {
   "cell_type": "markdown",
   "metadata": {},
   "source": [
    "3 index show sentiment polarity"
   ]
  },
  {
   "cell_type": "code",
   "execution_count": 171,
   "metadata": {},
   "outputs": [],
   "source": [
    "afinn = Afinn(language='en')"
   ]
  },
  {
   "cell_type": "code",
   "execution_count": 172,
   "metadata": {},
   "outputs": [],
   "source": [
    "pos_index = []\n",
    "neg_index = []\n",
    "neutral_index = []"
   ]
  },
  {
   "cell_type": "markdown",
   "metadata": {},
   "source": [
    "- Core of the analysis\n",
    "- compute the indexs of each sentence, compute the overall indexs of each speech by averaging sentence index in this speech"
   ]
  },
  {
   "cell_type": "code",
   "execution_count": 173,
   "metadata": {},
   "outputs": [],
   "source": [
    "for i in range(n_speech):\n",
    "    lines = sentence_split(docs[i])\n",
    "    pos = 0\n",
    "    neg = 0\n",
    "    neutral = 0\n",
    "    \n",
    "    for line in lines:\n",
    "        score = int(afinn.score(line))\n",
    "        \n",
    "        if score > 0:\n",
    "            pos += 1\n",
    "        elif score < 0:\n",
    "            neg += 1\n",
    "        else:\n",
    "            neutral += 1\n",
    "        \n",
    "    n = len(lines)\n",
    "    pos_index.append(pos / n)\n",
    "    neg_index.append(neg / n)\n",
    "    neutral_index.append(neutral / n)"
   ]
  },
  {
   "cell_type": "code",
   "execution_count": null,
   "metadata": {},
   "outputs": [],
   "source": [
    "print(len(pos_index))\n",
    "#neg_index \n",
    "#neutral_index "
   ]
  },
  {
   "cell_type": "markdown",
   "metadata": {},
   "source": [
    "compute the mean indexs of a year"
   ]
  },
  {
   "cell_type": "code",
   "execution_count": 174,
   "metadata": {},
   "outputs": [],
   "source": [
    "def getTotalIndex(index):\n",
    "    indexPerYear = np.zeros(len(years.keys()))\n",
    "    count = 0\n",
    "    cur = 0\n",
    "    for i in years.keys():\n",
    "        for j in range(years[i]):\n",
    "            indexPerYear[count] += index[cur]\n",
    "            cur += 1\n",
    "        indexPerYear[count] /= j\n",
    "        count += 1\n",
    "    return indexPerYear"
   ]
  },
  {
   "cell_type": "markdown",
   "metadata": {},
   "source": [
    "to do Or not"
   ]
  },
  {
   "cell_type": "markdown",
   "metadata": {},
   "source": [
    "- sentiment index trend regarding of countries\n",
    "- sentiment index trend per country VS economic/puluution/.. trend per country"
   ]
  },
  {
   "cell_type": "markdown",
   "metadata": {},
   "source": [
    "visualize the index trend"
   ]
  },
  {
   "cell_type": "code",
   "execution_count": 175,
   "metadata": {},
   "outputs": [],
   "source": [
    "import matplotlib.pyplot as plt\n",
    "import numpy as np\n",
    "import matplotlib.ticker as ticker"
   ]
  },
  {
   "cell_type": "code",
   "execution_count": 176,
   "metadata": {},
   "outputs": [],
   "source": [
    "totPos = getTotalIndex(pos_index)\n",
    "totNeg = getTotalIndex(neg_index )\n",
    "totNeu = getTotalIndex(neutral_index)"
   ]
  },
  {
   "cell_type": "code",
   "execution_count": 177,
   "metadata": {},
   "outputs": [
    {
     "data": {
      "image/png": "[encoded data removed]",
      "text/plain": [
       "<Figure size 432x288 with 1 Axes>"
      ]
     },
     "metadata": {
      "needs_background": "light"
     },
     "output_type": "display_data"
    }
   ],
   "source": [
    "X = np.arange(1970,2019)\n",
    "plt.plot(X,totPos,'-.',label='positve')\n",
    "plt.plot(X,totNeg, '--',label='negative')\n",
    "plt.plot(X,totNeu,'-',label='neutral')\n",
    "plt.legend()\n",
    "plt.xticks(X)\n",
    "plt.xlabel('year')\n",
    "plt.ylabel('Index')\n",
    "plt.grid()\n",
    "plt.gca().xaxis.set_major_locator(ticker.MultipleLocator(5))\n",
    "plt.savefig('../output/sentimentYearTrend.png')\n",
    "plt.show()"
   ]
  },
  {
   "cell_type": "code",
   "execution_count": null,
   "metadata": {},
   "outputs": [],
   "source": []
  }
 ],
 "metadata": {
  "kernelspec": {
   "display_name": "Python 3",
   "language": "python",
   "name": "python3"
  },
  "language_info": {
   "codemirror_mode": {
    "name": "ipython",
    "version": 3
   },
   "file_extension": ".py",
   "mimetype": "text/x-python",
   "name": "python",
   "nbconvert_exporter": "python",
   "pygments_lexer": "ipython3",
   "version": "3.8.5"
  }
 },
 "nbformat": 4,
 "nbformat_minor": 4
}
